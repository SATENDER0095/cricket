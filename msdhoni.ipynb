{
 "cells": [
  {
   "cell_type": "markdown",
   "id": "e4d84fa3",
   "metadata": {},
   "source": [
    "# Is MS DHONI still good to bat??\n",
    "## Analysis By: SATENDER JANGRA"
   ]
  },
  {
   "cell_type": "markdown",
   "id": "dffe03fa-18f1-4de8-80e2-46b84cd7e063",
   "metadata": {},
   "source": [
    "#### Here we are checking whether MS DHONI is still good to bat or not. We have done this analysis on purely ipl data. No international matches data has been used in this analysis."
   ]
  },
  {
   "cell_type": "markdown",
   "id": "289304b3-f34c-4a2d-9cbd-49f6aa9facb1",
   "metadata": {
    "tags": []
   },
   "source": [
    "# Final analysis\n",
    "### https://satenderjangra.blogspot.com/2024/01/is-ms-dhoni-still-good-to-bat-or-not.html"
   ]
  },
  {
   "cell_type": "code",
   "execution_count": 82,
   "id": "163de2a9",
   "metadata": {
    "tags": []
   },
   "outputs": [],
   "source": [
    "import pandas as pd\n",
    "import numpy as np\n",
    "\n",
    "import matplotlib.pyplot as plt\n",
    "\n",
    "#to display all rows columns \n",
    "pd.set_option('display.max_rows', None)\n",
    "pd.set_option('display.max_columns', None)  \n",
    "pd.set_option('display.expand_frame_repr', False)\n",
    "pd.set_option('max_colwidth', 1)"
   ]
  },
  {
   "cell_type": "code",
   "execution_count": 4,
   "id": "419fa1a1-41d7-41e2-a6c6-40a4f25d0d57",
   "metadata": {
    "tags": []
   },
   "outputs": [],
   "source": [
    "df = pd.read_csv('IPL_ball_by_ball_updated.csv')"
   ]
  },
  {
   "cell_type": "code",
   "execution_count": 6,
   "id": "bc2c12d6-40ed-4370-b848-1e0cd6803bc8",
   "metadata": {
    "tags": []
   },
   "outputs": [
    {
     "data": {
      "text/html": [
       "<div>\n",
       "<style scoped>\n",
       "    .dataframe tbody tr th:only-of-type {\n",
       "        vertical-align: middle;\n",
       "    }\n",
       "\n",
       "    .dataframe tbody tr th {\n",
       "        vertical-align: top;\n",
       "    }\n",
       "\n",
       "    .dataframe thead th {\n",
       "        text-align: right;\n",
       "    }\n",
       "</style>\n",
       "<table border=\"1\" class=\"dataframe\">\n",
       "  <thead>\n",
       "    <tr style=\"text-align: right;\">\n",
       "      <th></th>\n",
       "      <th>match_id</th>\n",
       "      <th>season</th>\n",
       "      <th>start_date</th>\n",
       "      <th>venue</th>\n",
       "      <th>innings</th>\n",
       "      <th>ball</th>\n",
       "      <th>batting_team</th>\n",
       "      <th>bowling_team</th>\n",
       "      <th>striker</th>\n",
       "      <th>non_striker</th>\n",
       "      <th>...</th>\n",
       "      <th>extras</th>\n",
       "      <th>wides</th>\n",
       "      <th>noballs</th>\n",
       "      <th>byes</th>\n",
       "      <th>legbyes</th>\n",
       "      <th>penalty</th>\n",
       "      <th>wicket_type</th>\n",
       "      <th>player_dismissed</th>\n",
       "      <th>other_wicket_type</th>\n",
       "      <th>other_player_dismissed</th>\n",
       "    </tr>\n",
       "  </thead>\n",
       "  <tbody>\n",
       "    <tr>\n",
       "      <th>0</th>\n",
       "      <td>335982</td>\n",
       "      <td>2008</td>\n",
       "      <td>2008-04-18</td>\n",
       "      <td>M Chinnaswamy Stadium</td>\n",
       "      <td>1</td>\n",
       "      <td>0.1</td>\n",
       "      <td>Kolkata Knight Riders</td>\n",
       "      <td>Royal Challengers Bangalore</td>\n",
       "      <td>SC Ganguly</td>\n",
       "      <td>BB McCullum</td>\n",
       "      <td>...</td>\n",
       "      <td>1</td>\n",
       "      <td>NaN</td>\n",
       "      <td>NaN</td>\n",
       "      <td>NaN</td>\n",
       "      <td>1.0</td>\n",
       "      <td>NaN</td>\n",
       "      <td>NaN</td>\n",
       "      <td>NaN</td>\n",
       "      <td>NaN</td>\n",
       "      <td>NaN</td>\n",
       "    </tr>\n",
       "  </tbody>\n",
       "</table>\n",
       "<p>1 rows × 22 columns</p>\n",
       "</div>"
      ],
      "text/plain": [
       "   match_id  season  start_date                  venue  innings  ball  \\\n",
       "0    335982    2008  2008-04-18  M Chinnaswamy Stadium        1   0.1   \n",
       "\n",
       "            batting_team                 bowling_team     striker  \\\n",
       "0  Kolkata Knight Riders  Royal Challengers Bangalore  SC Ganguly   \n",
       "\n",
       "   non_striker  ... extras  wides  noballs  byes  legbyes  penalty  \\\n",
       "0  BB McCullum  ...      1    NaN      NaN   NaN      1.0      NaN   \n",
       "\n",
       "   wicket_type  player_dismissed other_wicket_type other_player_dismissed  \n",
       "0          NaN               NaN               NaN                    NaN  \n",
       "\n",
       "[1 rows x 22 columns]"
      ]
     },
     "execution_count": 6,
     "metadata": {},
     "output_type": "execute_result"
    }
   ],
   "source": [
    "df.head(1)"
   ]
  },
  {
   "cell_type": "code",
   "execution_count": 11,
   "id": "b68d32f1-bd37-4cc4-bf52-b621cf681cc7",
   "metadata": {
    "tags": []
   },
   "outputs": [],
   "source": [
    "df = df[(df['innings'] == 1) | (df['innings'] == 2)]"
   ]
  },
  {
   "cell_type": "code",
   "execution_count": 14,
   "id": "887c31ed-80fa-4cb8-afe9-3d3ca171b051",
   "metadata": {
    "tags": []
   },
   "outputs": [
    {
     "data": {
      "text/plain": [
       "Index(['match_id', 'season', 'start_date', 'venue', 'innings', 'ball',\n",
       "       'batting_team', 'bowling_team', 'striker', 'non_striker', 'bowler',\n",
       "       'runs_off_bat', 'extras', 'wides', 'noballs', 'byes', 'legbyes',\n",
       "       'penalty', 'wicket_type', 'player_dismissed', 'other_wicket_type',\n",
       "       'other_player_dismissed'],\n",
       "      dtype='object')"
      ]
     },
     "execution_count": 14,
     "metadata": {},
     "output_type": "execute_result"
    }
   ],
   "source": [
    "df.columns"
   ]
  },
  {
   "cell_type": "code",
   "execution_count": 15,
   "id": "b9b51f74-038e-41fc-8547-b04bbf6e81ee",
   "metadata": {
    "tags": []
   },
   "outputs": [
    {
     "data": {
      "text/plain": [
       "array(['Kolkata Knight Riders', 'Royal Challengers Bangalore',\n",
       "       'Chennai Super Kings', 'Kings XI Punjab', 'Rajasthan Royals',\n",
       "       'Delhi Daredevils', 'Mumbai Indians', 'Deccan Chargers',\n",
       "       'Kochi Tuskers Kerala', 'Pune Warriors', 'Sunrisers Hyderabad',\n",
       "       'Rising Pune Supergiants', 'Gujarat Lions',\n",
       "       'Rising Pune Supergiant', 'Delhi Capitals', 'Punjab Kings',\n",
       "       'Lucknow Super Giants', 'Gujarat Titans'], dtype=object)"
      ]
     },
     "execution_count": 15,
     "metadata": {},
     "output_type": "execute_result"
    }
   ],
   "source": [
    "df.batting_team.unique()"
   ]
  },
  {
   "cell_type": "code",
   "execution_count": 16,
   "id": "40a360fc-0841-421a-846f-9f76c5f67a5e",
   "metadata": {
    "tags": []
   },
   "outputs": [
    {
     "data": {
      "text/plain": [
       "array(['PA Patel', 'ML Hayden', 'MEK Hussey', 'MS Dhoni', 'SK Raina',\n",
       "       'JDP Oram', 'S Badrinath', 'SP Fleming', 'S Vidyut', 'JA Morkel',\n",
       "       'Joginder Sharma', 'MS Gony', 'M Muralitharan', 'M Ntini',\n",
       "       'S Anirudha', 'CK Kapugedera', 'L Balaji', 'A Mukund',\n",
       "       'A Flintoff', 'T Thushara', 'M Vijay', 'SB Jakati', 'GJ Bailey',\n",
       "       'R Ashwin', 'JM Kemp', 'S Tyagi', 'KB Arun Karthik',\n",
       "       'DE Bollinger', 'SB Styris', 'S Randiv', 'WP Saha', 'DJ Bravo',\n",
       "       'F du Plessis', 'RA Jadeja', 'KMDN Kulasekara', 'B Laughlin',\n",
       "       'AS Rajpoot', 'CH Morris', 'MM Sharma', 'DR Smith', 'BB McCullum',\n",
       "       'M Manhas', 'DJ Hussey', 'A Nehra', 'P Negi', 'RG More',\n",
       "       'SR Watson', 'AT Rayudu', 'KM Jadhav', 'DL Chahar',\n",
       "       'Harbhajan Singh', 'MA Wood', 'Imran Tahir', 'SW Billings',\n",
       "       'DR Shorey', 'SN Thakur', 'MJ Santner', 'SM Curran', 'RD Gaikwad',\n",
       "       'N Jagadeesan', 'MM Ali', 'RV Uthappa', 'DP Conway', 'S Dube',\n",
       "       'D Pretorius', 'CJ Jordan', 'Mukesh Choudhary', 'Simarjeet Singh',\n",
       "       'M Theekshana'], dtype=object)"
      ]
     },
     "execution_count": 16,
     "metadata": {},
     "output_type": "execute_result"
    }
   ],
   "source": [
    "df[df['batting_team'] == 'Chennai Super Kings'].striker.unique()"
   ]
  },
  {
   "cell_type": "code",
   "execution_count": 17,
   "id": "b8410793-988e-4980-8b2c-cfeb9d25c12c",
   "metadata": {
    "tags": []
   },
   "outputs": [],
   "source": [
    "df2 = df[df['striker'] == 'MS Dhoni']"
   ]
  },
  {
   "cell_type": "code",
   "execution_count": 23,
   "id": "ca81e4a3-998c-4147-ba72-6f5076a126a6",
   "metadata": {
    "tags": []
   },
   "outputs": [],
   "source": [
    "runs_by_season = pd.DataFrame(df2.groupby('season')['runs_off_bat'].sum()).reset_index()"
   ]
  },
  {
   "cell_type": "code",
   "execution_count": 49,
   "id": "4cf24b12-f67e-41ac-917a-78d6586dc6c4",
   "metadata": {
    "tags": []
   },
   "outputs": [
    {
     "data": {
      "image/png": "[encoded data removed]",
      "text/plain": [
       "<Figure size 1000x500 with 1 Axes>"
      ]
     },
     "metadata": {},
     "output_type": "display_data"
    }
   ],
   "source": [
    "plt.figure(figsize = (10, 5))\n",
    "plt.bar(runs_by_season.season,runs_by_season.runs_off_bat)\n",
    "plt.title(\"MS Dhoni runs over year\")\n",
    "plt.xlabel('Season')\n",
    "plt.ylabel('Runs scored')\n",
    "plt.show()"
   ]
  },
  {
   "cell_type": "code",
   "execution_count": 41,
   "id": "0c8dbf13-1c9c-435a-9b9e-b7806c89eb61",
   "metadata": {
    "tags": []
   },
   "outputs": [],
   "source": [
    "balls_by_season = pd.DataFrame(df2.groupby('season')['ball'].count()).reset_index()"
   ]
  },
  {
   "cell_type": "code",
   "execution_count": 43,
   "id": "f9b70369-6bac-4a04-b7d8-e6d6ea8737de",
   "metadata": {
    "tags": []
   },
   "outputs": [],
   "source": [
    "ms_df = runs_by_season.merge(balls_by_season, on = 'season', how = 'left')"
   ]
  },
  {
   "cell_type": "code",
   "execution_count": 45,
   "id": "dfd939f9-cc9c-4ff5-991a-7c74cf763668",
   "metadata": {
    "tags": []
   },
   "outputs": [
    {
     "data": {
      "text/html": [
       "<div>\n",
       "<style scoped>\n",
       "    .dataframe tbody tr th:only-of-type {\n",
       "        vertical-align: middle;\n",
       "    }\n",
       "\n",
       "    .dataframe tbody tr th {\n",
       "        vertical-align: top;\n",
       "    }\n",
       "\n",
       "    .dataframe thead th {\n",
       "        text-align: right;\n",
       "    }\n",
       "</style>\n",
       "<table border=\"1\" class=\"dataframe\">\n",
       "  <thead>\n",
       "    <tr style=\"text-align: right;\">\n",
       "      <th></th>\n",
       "      <th>season</th>\n",
       "      <th>runs_off_bat</th>\n",
       "      <th>ball</th>\n",
       "    </tr>\n",
       "  </thead>\n",
       "  <tbody>\n",
       "    <tr>\n",
       "      <th>0</th>\n",
       "      <td>2008</td>\n",
       "      <td>414</td>\n",
       "      <td>319</td>\n",
       "    </tr>\n",
       "  </tbody>\n",
       "</table>\n",
       "</div>"
      ],
      "text/plain": [
       "   season  runs_off_bat  ball\n",
       "0  2008    414           319 "
      ]
     },
     "execution_count": 45,
     "metadata": {},
     "output_type": "execute_result"
    }
   ],
   "source": [
    "ms_df.head(1)"
   ]
  },
  {
   "cell_type": "code",
   "execution_count": 46,
   "id": "a06c04f9-eeea-46f0-a553-b86e926db428",
   "metadata": {
    "tags": []
   },
   "outputs": [],
   "source": [
    "ms_df['strike_rate'] = 100*(ms_df.runs_off_bat/ms_df.ball)"
   ]
  },
  {
   "cell_type": "code",
   "execution_count": 51,
   "id": "a87dc3d2-919d-4465-9bb1-047ca7465a73",
   "metadata": {
    "tags": []
   },
   "outputs": [
    {
     "data": {
      "image/png": "[encoded data removed]",
      "text/plain": [
       "<Figure size 1000x500 with 1 Axes>"
      ]
     },
     "metadata": {},
     "output_type": "display_data"
    }
   ],
   "source": [
    "plt.figure(figsize = (10, 5))\n",
    "plt.bar(ms_df.season,ms_df.strike_rate)\n",
    "plt.title(\"MS Dhoni strike rate over year\")\n",
    "plt.xlabel('Season')\n",
    "plt.ylabel('Strike Rate')\n",
    "plt.show()"
   ]
  },
  {
   "cell_type": "code",
   "execution_count": 54,
   "id": "317315ef-6d6f-4767-8d41-c349287458fa",
   "metadata": {
    "tags": []
   },
   "outputs": [
    {
     "data": {
      "image/png": "[encoded data removed]",
      "text/plain": [
       "<Figure size 1000x500 with 1 Axes>"
      ]
     },
     "metadata": {},
     "output_type": "display_data"
    }
   ],
   "source": [
    "plt.figure(figsize = (10, 5))\n",
    "plt.bar(ms_df.season,ms_df.ball)\n",
    "plt.title(\"MS Dhoni ball faced over year\")\n",
    "plt.xlabel('Season')\n",
    "plt.ylabel('balls faced')\n",
    "plt.show()"
   ]
  },
  {
   "cell_type": "code",
   "execution_count": 69,
   "id": "65ac3ad5-0b31-4c4f-bd6d-19372dce0618",
   "metadata": {
    "tags": []
   },
   "outputs": [],
   "source": [
    "boundaries = df2[(df2['runs_off_bat'] == 4) | (df2['runs_off_bat'] == 6) ]"
   ]
  },
  {
   "cell_type": "code",
   "execution_count": 87,
   "id": "c3dc7ac4-33e9-418b-86f4-32f2419714ee",
   "metadata": {
    "tags": []
   },
   "outputs": [],
   "source": [
    "boundaries_by_season = pd.DataFrame(boundaries.groupby('season')['runs_off_bat'].count()).reset_index()"
   ]
  },
  {
   "cell_type": "code",
   "execution_count": 88,
   "id": "d3c4bb6c-2110-41e9-b62d-c579a36f10e1",
   "metadata": {
    "tags": []
   },
   "outputs": [
    {
     "data": {
      "text/plain": [
       "Index(['season', 'runs_off_bat'], dtype='object')"
      ]
     },
     "execution_count": 88,
     "metadata": {},
     "output_type": "execute_result"
    }
   ],
   "source": [
    "boundaries_by_season.columns"
   ]
  },
  {
   "cell_type": "code",
   "execution_count": 89,
   "id": "5961c68e-6079-452d-a39d-f53a59c7aa78",
   "metadata": {
    "tags": []
   },
   "outputs": [],
   "source": [
    "boundaries_by_season =boundaries_by_season.rename(columns={'runs_off_bat':'boundary'})"
   ]
  },
  {
   "cell_type": "code",
   "execution_count": 90,
   "id": "05ed1a9d-9a49-4e04-b428-f65d25675efb",
   "metadata": {
    "tags": []
   },
   "outputs": [
    {
     "data": {
      "text/html": [
       "<div>\n",
       "<style scoped>\n",
       "    .dataframe tbody tr th:only-of-type {\n",
       "        vertical-align: middle;\n",
       "    }\n",
       "\n",
       "    .dataframe tbody tr th {\n",
       "        vertical-align: top;\n",
       "    }\n",
       "\n",
       "    .dataframe thead th {\n",
       "        text-align: right;\n",
       "    }\n",
       "</style>\n",
       "<table border=\"1\" class=\"dataframe\">\n",
       "  <thead>\n",
       "    <tr style=\"text-align: right;\">\n",
       "      <th></th>\n",
       "      <th>season</th>\n",
       "      <th>boundary</th>\n",
       "    </tr>\n",
       "  </thead>\n",
       "  <tbody>\n",
       "    <tr>\n",
       "      <th>0</th>\n",
       "      <td>2008</td>\n",
       "      <td>53</td>\n",
       "    </tr>\n",
       "    <tr>\n",
       "      <th>1</th>\n",
       "      <td>2009</td>\n",
       "      <td>31</td>\n",
       "    </tr>\n",
       "    <tr>\n",
       "      <th>2</th>\n",
       "      <td>2010</td>\n",
       "      <td>34</td>\n",
       "    </tr>\n",
       "    <tr>\n",
       "      <th>3</th>\n",
       "      <td>2011</td>\n",
       "      <td>48</td>\n",
       "    </tr>\n",
       "    <tr>\n",
       "      <th>4</th>\n",
       "      <td>2012</td>\n",
       "      <td>35</td>\n",
       "    </tr>\n",
       "    <tr>\n",
       "      <th>5</th>\n",
       "      <td>2013</td>\n",
       "      <td>57</td>\n",
       "    </tr>\n",
       "    <tr>\n",
       "      <th>6</th>\n",
       "      <td>2014</td>\n",
       "      <td>42</td>\n",
       "    </tr>\n",
       "    <tr>\n",
       "      <th>7</th>\n",
       "      <td>2015</td>\n",
       "      <td>44</td>\n",
       "    </tr>\n",
       "    <tr>\n",
       "      <th>8</th>\n",
       "      <td>2016</td>\n",
       "      <td>32</td>\n",
       "    </tr>\n",
       "    <tr>\n",
       "      <th>9</th>\n",
       "      <td>2017</td>\n",
       "      <td>31</td>\n",
       "    </tr>\n",
       "    <tr>\n",
       "      <th>10</th>\n",
       "      <td>2018</td>\n",
       "      <td>54</td>\n",
       "    </tr>\n",
       "    <tr>\n",
       "      <th>11</th>\n",
       "      <td>2019</td>\n",
       "      <td>45</td>\n",
       "    </tr>\n",
       "    <tr>\n",
       "      <th>12</th>\n",
       "      <td>2020</td>\n",
       "      <td>23</td>\n",
       "    </tr>\n",
       "    <tr>\n",
       "      <th>13</th>\n",
       "      <td>2021</td>\n",
       "      <td>15</td>\n",
       "    </tr>\n",
       "    <tr>\n",
       "      <th>14</th>\n",
       "      <td>2022</td>\n",
       "      <td>31</td>\n",
       "    </tr>\n",
       "  </tbody>\n",
       "</table>\n",
       "</div>"
      ],
      "text/plain": [
       "    season  boundary\n",
       "0   2008    53      \n",
       "1   2009    31      \n",
       "2   2010    34      \n",
       "3   2011    48      \n",
       "4   2012    35      \n",
       "5   2013    57      \n",
       "6   2014    42      \n",
       "7   2015    44      \n",
       "8   2016    32      \n",
       "9   2017    31      \n",
       "10  2018    54      \n",
       "11  2019    45      \n",
       "12  2020    23      \n",
       "13  2021    15      \n",
       "14  2022    31      "
      ]
     },
     "execution_count": 90,
     "metadata": {},
     "output_type": "execute_result"
    }
   ],
   "source": [
    "boundaries_by_season"
   ]
  },
  {
   "cell_type": "code",
   "execution_count": 91,
   "id": "eec9d073-59d1-4fdd-9851-3c91dc674bb5",
   "metadata": {
    "tags": []
   },
   "outputs": [
    {
     "data": {
      "text/plain": [
       "Index(['season', 'ball'], dtype='object')"
      ]
     },
     "execution_count": 91,
     "metadata": {},
     "output_type": "execute_result"
    }
   ],
   "source": [
    "balls_by_season.columns"
   ]
  },
  {
   "cell_type": "code",
   "execution_count": 92,
   "id": "9358b11b-9d52-4d93-8422-4e1d29832853",
   "metadata": {
    "tags": []
   },
   "outputs": [],
   "source": [
    "ms_df = ms_df.merge(boundaries_by_season, on ='season', how='left')"
   ]
  },
  {
   "cell_type": "code",
   "execution_count": 93,
   "id": "5d3e5a29-622f-4f9c-b21f-42f1ddf862d3",
   "metadata": {
    "tags": []
   },
   "outputs": [
    {
     "data": {
      "text/html": [
       "<div>\n",
       "<style scoped>\n",
       "    .dataframe tbody tr th:only-of-type {\n",
       "        vertical-align: middle;\n",
       "    }\n",
       "\n",
       "    .dataframe tbody tr th {\n",
       "        vertical-align: top;\n",
       "    }\n",
       "\n",
       "    .dataframe thead th {\n",
       "        text-align: right;\n",
       "    }\n",
       "</style>\n",
       "<table border=\"1\" class=\"dataframe\">\n",
       "  <thead>\n",
       "    <tr style=\"text-align: right;\">\n",
       "      <th></th>\n",
       "      <th>season</th>\n",
       "      <th>runs_off_bat</th>\n",
       "      <th>ball</th>\n",
       "      <th>strike_rate</th>\n",
       "      <th>boundary</th>\n",
       "    </tr>\n",
       "  </thead>\n",
       "  <tbody>\n",
       "    <tr>\n",
       "      <th>0</th>\n",
       "      <td>2008</td>\n",
       "      <td>414</td>\n",
       "      <td>319</td>\n",
       "      <td>129.780564</td>\n",
       "      <td>53</td>\n",
       "    </tr>\n",
       "    <tr>\n",
       "      <th>1</th>\n",
       "      <td>2009</td>\n",
       "      <td>332</td>\n",
       "      <td>270</td>\n",
       "      <td>122.962963</td>\n",
       "      <td>31</td>\n",
       "    </tr>\n",
       "    <tr>\n",
       "      <th>2</th>\n",
       "      <td>2010</td>\n",
       "      <td>287</td>\n",
       "      <td>215</td>\n",
       "      <td>133.488372</td>\n",
       "      <td>34</td>\n",
       "    </tr>\n",
       "    <tr>\n",
       "      <th>3</th>\n",
       "      <td>2011</td>\n",
       "      <td>392</td>\n",
       "      <td>247</td>\n",
       "      <td>158.704453</td>\n",
       "      <td>48</td>\n",
       "    </tr>\n",
       "    <tr>\n",
       "      <th>4</th>\n",
       "      <td>2012</td>\n",
       "      <td>358</td>\n",
       "      <td>283</td>\n",
       "      <td>126.501767</td>\n",
       "      <td>35</td>\n",
       "    </tr>\n",
       "    <tr>\n",
       "      <th>5</th>\n",
       "      <td>2013</td>\n",
       "      <td>461</td>\n",
       "      <td>298</td>\n",
       "      <td>154.697987</td>\n",
       "      <td>57</td>\n",
       "    </tr>\n",
       "    <tr>\n",
       "      <th>6</th>\n",
       "      <td>2014</td>\n",
       "      <td>371</td>\n",
       "      <td>258</td>\n",
       "      <td>143.798450</td>\n",
       "      <td>42</td>\n",
       "    </tr>\n",
       "    <tr>\n",
       "      <th>7</th>\n",
       "      <td>2015</td>\n",
       "      <td>372</td>\n",
       "      <td>309</td>\n",
       "      <td>120.388350</td>\n",
       "      <td>44</td>\n",
       "    </tr>\n",
       "    <tr>\n",
       "      <th>8</th>\n",
       "      <td>2016</td>\n",
       "      <td>284</td>\n",
       "      <td>220</td>\n",
       "      <td>129.090909</td>\n",
       "      <td>32</td>\n",
       "    </tr>\n",
       "    <tr>\n",
       "      <th>9</th>\n",
       "      <td>2017</td>\n",
       "      <td>290</td>\n",
       "      <td>261</td>\n",
       "      <td>111.111111</td>\n",
       "      <td>31</td>\n",
       "    </tr>\n",
       "    <tr>\n",
       "      <th>10</th>\n",
       "      <td>2018</td>\n",
       "      <td>455</td>\n",
       "      <td>321</td>\n",
       "      <td>141.744548</td>\n",
       "      <td>54</td>\n",
       "    </tr>\n",
       "    <tr>\n",
       "      <th>11</th>\n",
       "      <td>2019</td>\n",
       "      <td>416</td>\n",
       "      <td>317</td>\n",
       "      <td>131.230284</td>\n",
       "      <td>45</td>\n",
       "    </tr>\n",
       "    <tr>\n",
       "      <th>12</th>\n",
       "      <td>2020</td>\n",
       "      <td>200</td>\n",
       "      <td>175</td>\n",
       "      <td>114.285714</td>\n",
       "      <td>23</td>\n",
       "    </tr>\n",
       "    <tr>\n",
       "      <th>13</th>\n",
       "      <td>2021</td>\n",
       "      <td>114</td>\n",
       "      <td>111</td>\n",
       "      <td>102.702703</td>\n",
       "      <td>15</td>\n",
       "    </tr>\n",
       "    <tr>\n",
       "      <th>14</th>\n",
       "      <td>2022</td>\n",
       "      <td>232</td>\n",
       "      <td>198</td>\n",
       "      <td>117.171717</td>\n",
       "      <td>31</td>\n",
       "    </tr>\n",
       "  </tbody>\n",
       "</table>\n",
       "</div>"
      ],
      "text/plain": [
       "    season  runs_off_bat  ball  strike_rate  boundary\n",
       "0   2008    414           319   129.780564   53      \n",
       "1   2009    332           270   122.962963   31      \n",
       "2   2010    287           215   133.488372   34      \n",
       "3   2011    392           247   158.704453   48      \n",
       "4   2012    358           283   126.501767   35      \n",
       "5   2013    461           298   154.697987   57      \n",
       "6   2014    371           258   143.798450   42      \n",
       "7   2015    372           309   120.388350   44      \n",
       "8   2016    284           220   129.090909   32      \n",
       "9   2017    290           261   111.111111   31      \n",
       "10  2018    455           321   141.744548   54      \n",
       "11  2019    416           317   131.230284   45      \n",
       "12  2020    200           175   114.285714   23      \n",
       "13  2021    114           111   102.702703   15      \n",
       "14  2022    232           198   117.171717   31      "
      ]
     },
     "execution_count": 93,
     "metadata": {},
     "output_type": "execute_result"
    }
   ],
   "source": [
    "ms_df"
   ]
  },
  {
   "cell_type": "code",
   "execution_count": 97,
   "id": "6eaffdb3-300a-43fb-9c5d-2f2be9bc3021",
   "metadata": {
    "tags": []
   },
   "outputs": [],
   "source": [
    "ms_df['ball_for_boundary'] = round(ms_df['ball']/ms_df['boundary'],2)"
   ]
  },
  {
   "cell_type": "code",
   "execution_count": 98,
   "id": "6c9a2173-c7c1-4919-b75a-10f1a7d89b36",
   "metadata": {
    "tags": []
   },
   "outputs": [
    {
     "data": {
      "text/html": [
       "<div>\n",
       "<style scoped>\n",
       "    .dataframe tbody tr th:only-of-type {\n",
       "        vertical-align: middle;\n",
       "    }\n",
       "\n",
       "    .dataframe tbody tr th {\n",
       "        vertical-align: top;\n",
       "    }\n",
       "\n",
       "    .dataframe thead th {\n",
       "        text-align: right;\n",
       "    }\n",
       "</style>\n",
       "<table border=\"1\" class=\"dataframe\">\n",
       "  <thead>\n",
       "    <tr style=\"text-align: right;\">\n",
       "      <th></th>\n",
       "      <th>season</th>\n",
       "      <th>runs_off_bat</th>\n",
       "      <th>ball</th>\n",
       "      <th>strike_rate</th>\n",
       "      <th>boundary</th>\n",
       "      <th>ball_for_boundary</th>\n",
       "    </tr>\n",
       "  </thead>\n",
       "  <tbody>\n",
       "    <tr>\n",
       "      <th>0</th>\n",
       "      <td>2008</td>\n",
       "      <td>414</td>\n",
       "      <td>319</td>\n",
       "      <td>129.780564</td>\n",
       "      <td>53</td>\n",
       "      <td>6.02</td>\n",
       "    </tr>\n",
       "    <tr>\n",
       "      <th>1</th>\n",
       "      <td>2009</td>\n",
       "      <td>332</td>\n",
       "      <td>270</td>\n",
       "      <td>122.962963</td>\n",
       "      <td>31</td>\n",
       "      <td>8.71</td>\n",
       "    </tr>\n",
       "    <tr>\n",
       "      <th>2</th>\n",
       "      <td>2010</td>\n",
       "      <td>287</td>\n",
       "      <td>215</td>\n",
       "      <td>133.488372</td>\n",
       "      <td>34</td>\n",
       "      <td>6.32</td>\n",
       "    </tr>\n",
       "    <tr>\n",
       "      <th>3</th>\n",
       "      <td>2011</td>\n",
       "      <td>392</td>\n",
       "      <td>247</td>\n",
       "      <td>158.704453</td>\n",
       "      <td>48</td>\n",
       "      <td>5.15</td>\n",
       "    </tr>\n",
       "    <tr>\n",
       "      <th>4</th>\n",
       "      <td>2012</td>\n",
       "      <td>358</td>\n",
       "      <td>283</td>\n",
       "      <td>126.501767</td>\n",
       "      <td>35</td>\n",
       "      <td>8.09</td>\n",
       "    </tr>\n",
       "    <tr>\n",
       "      <th>5</th>\n",
       "      <td>2013</td>\n",
       "      <td>461</td>\n",
       "      <td>298</td>\n",
       "      <td>154.697987</td>\n",
       "      <td>57</td>\n",
       "      <td>5.23</td>\n",
       "    </tr>\n",
       "    <tr>\n",
       "      <th>6</th>\n",
       "      <td>2014</td>\n",
       "      <td>371</td>\n",
       "      <td>258</td>\n",
       "      <td>143.798450</td>\n",
       "      <td>42</td>\n",
       "      <td>6.14</td>\n",
       "    </tr>\n",
       "    <tr>\n",
       "      <th>7</th>\n",
       "      <td>2015</td>\n",
       "      <td>372</td>\n",
       "      <td>309</td>\n",
       "      <td>120.388350</td>\n",
       "      <td>44</td>\n",
       "      <td>7.02</td>\n",
       "    </tr>\n",
       "    <tr>\n",
       "      <th>8</th>\n",
       "      <td>2016</td>\n",
       "      <td>284</td>\n",
       "      <td>220</td>\n",
       "      <td>129.090909</td>\n",
       "      <td>32</td>\n",
       "      <td>6.88</td>\n",
       "    </tr>\n",
       "    <tr>\n",
       "      <th>9</th>\n",
       "      <td>2017</td>\n",
       "      <td>290</td>\n",
       "      <td>261</td>\n",
       "      <td>111.111111</td>\n",
       "      <td>31</td>\n",
       "      <td>8.42</td>\n",
       "    </tr>\n",
       "    <tr>\n",
       "      <th>10</th>\n",
       "      <td>2018</td>\n",
       "      <td>455</td>\n",
       "      <td>321</td>\n",
       "      <td>141.744548</td>\n",
       "      <td>54</td>\n",
       "      <td>5.94</td>\n",
       "    </tr>\n",
       "    <tr>\n",
       "      <th>11</th>\n",
       "      <td>2019</td>\n",
       "      <td>416</td>\n",
       "      <td>317</td>\n",
       "      <td>131.230284</td>\n",
       "      <td>45</td>\n",
       "      <td>7.04</td>\n",
       "    </tr>\n",
       "    <tr>\n",
       "      <th>12</th>\n",
       "      <td>2020</td>\n",
       "      <td>200</td>\n",
       "      <td>175</td>\n",
       "      <td>114.285714</td>\n",
       "      <td>23</td>\n",
       "      <td>7.61</td>\n",
       "    </tr>\n",
       "    <tr>\n",
       "      <th>13</th>\n",
       "      <td>2021</td>\n",
       "      <td>114</td>\n",
       "      <td>111</td>\n",
       "      <td>102.702703</td>\n",
       "      <td>15</td>\n",
       "      <td>7.40</td>\n",
       "    </tr>\n",
       "    <tr>\n",
       "      <th>14</th>\n",
       "      <td>2022</td>\n",
       "      <td>232</td>\n",
       "      <td>198</td>\n",
       "      <td>117.171717</td>\n",
       "      <td>31</td>\n",
       "      <td>6.39</td>\n",
       "    </tr>\n",
       "  </tbody>\n",
       "</table>\n",
       "</div>"
      ],
      "text/plain": [
       "    season  runs_off_bat  ball  strike_rate  boundary  ball_for_boundary\n",
       "0   2008    414           319   129.780564   53        6.02             \n",
       "1   2009    332           270   122.962963   31        8.71             \n",
       "2   2010    287           215   133.488372   34        6.32             \n",
       "3   2011    392           247   158.704453   48        5.15             \n",
       "4   2012    358           283   126.501767   35        8.09             \n",
       "5   2013    461           298   154.697987   57        5.23             \n",
       "6   2014    371           258   143.798450   42        6.14             \n",
       "7   2015    372           309   120.388350   44        7.02             \n",
       "8   2016    284           220   129.090909   32        6.88             \n",
       "9   2017    290           261   111.111111   31        8.42             \n",
       "10  2018    455           321   141.744548   54        5.94             \n",
       "11  2019    416           317   131.230284   45        7.04             \n",
       "12  2020    200           175   114.285714   23        7.61             \n",
       "13  2021    114           111   102.702703   15        7.40             \n",
       "14  2022    232           198   117.171717   31        6.39             "
      ]
     },
     "execution_count": 98,
     "metadata": {},
     "output_type": "execute_result"
    }
   ],
   "source": [
    "ms_df"
   ]
  },
  {
   "cell_type": "code",
   "execution_count": 99,
   "id": "12c0094f-219f-45db-8465-98fb6f10de66",
   "metadata": {
    "tags": []
   },
   "outputs": [
    {
     "data": {
      "image/png": "[encoded data removed]",
      "text/plain": [
       "<Figure size 1000x500 with 1 Axes>"
      ]
     },
     "metadata": {},
     "output_type": "display_data"
    }
   ],
   "source": [
    "plt.figure(figsize = (10, 5))\n",
    "plt.bar(ms_df.season,ms_df.boundary)\n",
    "plt.title(\"MS Dhoni boundary scored over year\")\n",
    "plt.xlabel('Season')\n",
    "plt.ylabel('boundary scored')\n",
    "plt.show()"
   ]
  },
  {
   "cell_type": "code",
   "execution_count": 100,
   "id": "a9412347-a934-4551-a906-2f7a88461708",
   "metadata": {
    "tags": []
   },
   "outputs": [
    {
     "data": {
      "image/png": "[encoded data removed]",
      "text/plain": [
       "<Figure size 1000x500 with 1 Axes>"
      ]
     },
     "metadata": {},
     "output_type": "display_data"
    }
   ],
   "source": [
    "plt.figure(figsize = (10, 5))\n",
    "plt.bar(ms_df.season,ms_df.ball_for_boundary)\n",
    "plt.title(\"MS Dhoni ball taken for hitting a boundary over year\")\n",
    "plt.xlabel('Season')\n",
    "plt.ylabel('Ball taken for hitting a boundary')\n",
    "plt.show()"
   ]
  },
  {
   "cell_type": "code",
   "execution_count": 102,
   "id": "3c80f53b-077c-470d-a98c-879d23f10611",
   "metadata": {
    "tags": []
   },
   "outputs": [
    {
     "data": {
      "text/html": [
       "<div>\n",
       "<style scoped>\n",
       "    .dataframe tbody tr th:only-of-type {\n",
       "        vertical-align: middle;\n",
       "    }\n",
       "\n",
       "    .dataframe tbody tr th {\n",
       "        vertical-align: top;\n",
       "    }\n",
       "\n",
       "    .dataframe thead th {\n",
       "        text-align: right;\n",
       "    }\n",
       "</style>\n",
       "<table border=\"1\" class=\"dataframe\">\n",
       "  <thead>\n",
       "    <tr style=\"text-align: right;\">\n",
       "      <th></th>\n",
       "      <th>match_id</th>\n",
       "      <th>season</th>\n",
       "      <th>start_date</th>\n",
       "      <th>venue</th>\n",
       "      <th>innings</th>\n",
       "      <th>ball</th>\n",
       "      <th>batting_team</th>\n",
       "      <th>bowling_team</th>\n",
       "      <th>striker</th>\n",
       "      <th>non_striker</th>\n",
       "      <th>bowler</th>\n",
       "      <th>runs_off_bat</th>\n",
       "      <th>extras</th>\n",
       "      <th>wides</th>\n",
       "      <th>noballs</th>\n",
       "      <th>byes</th>\n",
       "      <th>legbyes</th>\n",
       "      <th>penalty</th>\n",
       "      <th>wicket_type</th>\n",
       "      <th>player_dismissed</th>\n",
       "      <th>other_wicket_type</th>\n",
       "      <th>other_player_dismissed</th>\n",
       "    </tr>\n",
       "  </thead>\n",
       "  <tbody>\n",
       "    <tr>\n",
       "      <th>0</th>\n",
       "      <td>335982</td>\n",
       "      <td>2008</td>\n",
       "      <td>2008-04-18</td>\n",
       "      <td>M Chinnaswamy Stadium</td>\n",
       "      <td>1</td>\n",
       "      <td>0.1</td>\n",
       "      <td>Kolkata Knight Riders</td>\n",
       "      <td>Royal Challengers Bangalore</td>\n",
       "      <td>SC Ganguly</td>\n",
       "      <td>BB McCullum</td>\n",
       "      <td>P Kumar</td>\n",
       "      <td>0</td>\n",
       "      <td>1</td>\n",
       "      <td>NaN</td>\n",
       "      <td>NaN</td>\n",
       "      <td>NaN</td>\n",
       "      <td>1.0</td>\n",
       "      <td>NaN</td>\n",
       "      <td>NaN</td>\n",
       "      <td>NaN</td>\n",
       "      <td>NaN</td>\n",
       "      <td>NaN</td>\n",
       "    </tr>\n",
       "    <tr>\n",
       "      <th>1</th>\n",
       "      <td>335982</td>\n",
       "      <td>2008</td>\n",
       "      <td>2008-04-18</td>\n",
       "      <td>M Chinnaswamy Stadium</td>\n",
       "      <td>1</td>\n",
       "      <td>0.2</td>\n",
       "      <td>Kolkata Knight Riders</td>\n",
       "      <td>Royal Challengers Bangalore</td>\n",
       "      <td>BB McCullum</td>\n",
       "      <td>SC Ganguly</td>\n",
       "      <td>P Kumar</td>\n",
       "      <td>0</td>\n",
       "      <td>0</td>\n",
       "      <td>NaN</td>\n",
       "      <td>NaN</td>\n",
       "      <td>NaN</td>\n",
       "      <td>NaN</td>\n",
       "      <td>NaN</td>\n",
       "      <td>NaN</td>\n",
       "      <td>NaN</td>\n",
       "      <td>NaN</td>\n",
       "      <td>NaN</td>\n",
       "    </tr>\n",
       "    <tr>\n",
       "      <th>2</th>\n",
       "      <td>335982</td>\n",
       "      <td>2008</td>\n",
       "      <td>2008-04-18</td>\n",
       "      <td>M Chinnaswamy Stadium</td>\n",
       "      <td>1</td>\n",
       "      <td>0.3</td>\n",
       "      <td>Kolkata Knight Riders</td>\n",
       "      <td>Royal Challengers Bangalore</td>\n",
       "      <td>BB McCullum</td>\n",
       "      <td>SC Ganguly</td>\n",
       "      <td>P Kumar</td>\n",
       "      <td>0</td>\n",
       "      <td>1</td>\n",
       "      <td>1.0</td>\n",
       "      <td>NaN</td>\n",
       "      <td>NaN</td>\n",
       "      <td>NaN</td>\n",
       "      <td>NaN</td>\n",
       "      <td>NaN</td>\n",
       "      <td>NaN</td>\n",
       "      <td>NaN</td>\n",
       "      <td>NaN</td>\n",
       "    </tr>\n",
       "    <tr>\n",
       "      <th>3</th>\n",
       "      <td>335982</td>\n",
       "      <td>2008</td>\n",
       "      <td>2008-04-18</td>\n",
       "      <td>M Chinnaswamy Stadium</td>\n",
       "      <td>1</td>\n",
       "      <td>0.4</td>\n",
       "      <td>Kolkata Knight Riders</td>\n",
       "      <td>Royal Challengers Bangalore</td>\n",
       "      <td>BB McCullum</td>\n",
       "      <td>SC Ganguly</td>\n",
       "      <td>P Kumar</td>\n",
       "      <td>0</td>\n",
       "      <td>0</td>\n",
       "      <td>NaN</td>\n",
       "      <td>NaN</td>\n",
       "      <td>NaN</td>\n",
       "      <td>NaN</td>\n",
       "      <td>NaN</td>\n",
       "      <td>NaN</td>\n",
       "      <td>NaN</td>\n",
       "      <td>NaN</td>\n",
       "      <td>NaN</td>\n",
       "    </tr>\n",
       "    <tr>\n",
       "      <th>4</th>\n",
       "      <td>335982</td>\n",
       "      <td>2008</td>\n",
       "      <td>2008-04-18</td>\n",
       "      <td>M Chinnaswamy Stadium</td>\n",
       "      <td>1</td>\n",
       "      <td>0.5</td>\n",
       "      <td>Kolkata Knight Riders</td>\n",
       "      <td>Royal Challengers Bangalore</td>\n",
       "      <td>BB McCullum</td>\n",
       "      <td>SC Ganguly</td>\n",
       "      <td>P Kumar</td>\n",
       "      <td>0</td>\n",
       "      <td>0</td>\n",
       "      <td>NaN</td>\n",
       "      <td>NaN</td>\n",
       "      <td>NaN</td>\n",
       "      <td>NaN</td>\n",
       "      <td>NaN</td>\n",
       "      <td>NaN</td>\n",
       "      <td>NaN</td>\n",
       "      <td>NaN</td>\n",
       "      <td>NaN</td>\n",
       "    </tr>\n",
       "  </tbody>\n",
       "</table>\n",
       "</div>"
      ],
      "text/plain": [
       "   match_id  season  start_date                  venue  innings  ball           batting_team                 bowling_team      striker  non_striker   bowler  runs_off_bat  extras  wides  noballs  byes  legbyes  penalty wicket_type player_dismissed  other_wicket_type  other_player_dismissed\n",
       "0  335982    2008    2008-04-18  M Chinnaswamy Stadium  1        0.1   Kolkata Knight Riders  Royal Challengers Bangalore  SC Ganguly   BB McCullum  P Kumar  0             1      NaN    NaN      NaN    1.0     NaN       NaN         NaN             NaN                NaN                    \n",
       "1  335982    2008    2008-04-18  M Chinnaswamy Stadium  1        0.2   Kolkata Knight Riders  Royal Challengers Bangalore  BB McCullum  SC Ganguly   P Kumar  0             0      NaN    NaN      NaN   NaN      NaN       NaN         NaN             NaN                NaN                    \n",
       "2  335982    2008    2008-04-18  M Chinnaswamy Stadium  1        0.3   Kolkata Knight Riders  Royal Challengers Bangalore  BB McCullum  SC Ganguly   P Kumar  0             1       1.0   NaN      NaN   NaN      NaN       NaN         NaN             NaN                NaN                    \n",
       "3  335982    2008    2008-04-18  M Chinnaswamy Stadium  1        0.4   Kolkata Knight Riders  Royal Challengers Bangalore  BB McCullum  SC Ganguly   P Kumar  0             0      NaN    NaN      NaN   NaN      NaN       NaN         NaN             NaN                NaN                    \n",
       "4  335982    2008    2008-04-18  M Chinnaswamy Stadium  1        0.5   Kolkata Knight Riders  Royal Challengers Bangalore  BB McCullum  SC Ganguly   P Kumar  0             0      NaN    NaN      NaN   NaN      NaN       NaN         NaN             NaN                NaN                    "
      ]
     },
     "execution_count": 102,
     "metadata": {},
     "output_type": "execute_result"
    }
   ],
   "source": [
    "df.head()"
   ]
  },
  {
   "cell_type": "code",
   "execution_count": 103,
   "id": "179d226c-8aa1-4f6a-9208-b69922737e87",
   "metadata": {
    "tags": []
   },
   "outputs": [
    {
     "data": {
      "text/plain": [
       "array([ 0.1,  0.2,  0.3,  0.4,  0.5,  0.6,  0.7,  1.1,  1.2,  1.3,  1.4,\n",
       "        1.5,  1.6,  2.1,  2.2,  2.3,  2.4,  2.5,  2.6,  3.1,  3.2,  3.3,\n",
       "        3.4,  3.5,  3.6,  3.7,  4.1,  4.2,  4.3,  4.4,  4.5,  4.6,  5.1,\n",
       "        5.2,  5.3,  5.4,  5.5,  5.6,  6.1,  6.2,  6.3,  6.4,  6.5,  6.6,\n",
       "        7.1,  7.2,  7.3,  7.4,  7.5,  7.6,  8.1,  8.2,  8.3,  8.4,  8.5,\n",
       "        8.6,  9.1,  9.2,  9.3,  9.4,  9.5,  9.6, 10.1, 10.2, 10.3, 10.4,\n",
       "       10.5, 10.6, 11.1, 11.2, 11.3, 11.4, 11.5, 11.6, 12.1, 12.2, 12.3,\n",
       "       12.4, 12.5, 12.6, 12.7, 13.1, 13.2, 13.3, 13.4, 13.5, 13.6, 14.1,\n",
       "       14.2, 14.3, 14.4, 14.5, 14.6, 14.7, 15.1, 15.2, 15.3, 15.4, 15.5,\n",
       "       15.6, 16.1, 16.2, 16.3, 16.4, 16.5, 16.6, 17.1, 17.2, 17.3, 17.4,\n",
       "       17.5, 17.6, 18.1, 18.2, 18.3, 18.4, 18.5, 18.6, 19.1, 19.2, 19.3,\n",
       "       19.4, 19.5, 19.6,  2.7,  6.7,  6.8,  8.7,  8.8,  9.7,  1.7, 12.8,\n",
       "        5.7,  5.8, 13.7,  7.7,  4.7, 15.7, 13.8,  1.8, 16.7, 11.7, 11.8,\n",
       "       11.9, 19.7,  3.8, 17.7, 18.7,  0.8, 10.7, 10.8, 10.9, 18.8,  7.8,\n",
       "        2.8,  6.9,  1.9,  5.9, 19.8, 19.9,  4.8,  0.9, 18.9, 16.8, 16.9,\n",
       "       17.8, 14.8,  3.9, 15.8,  9.8, 17.9,  4.9, 14.9,  2.9, 13.9,  8.9,\n",
       "       15.9,  9.9,  7.9, 12.9])"
      ]
     },
     "execution_count": 103,
     "metadata": {},
     "output_type": "execute_result"
    }
   ],
   "source": [
    "df.ball.unique()"
   ]
  },
  {
   "cell_type": "code",
   "execution_count": 104,
   "id": "850053f6-a2a4-4026-a837-63b727f5273b",
   "metadata": {
    "tags": []
   },
   "outputs": [
    {
     "data": {
      "text/plain": [
       "array([16.1, 16.2, 16.3, 16.4, 16.5, 16.6, 17.1, 17.2, 17.3, 17.4, 17.5,\n",
       "       17.6, 18.1, 18.2, 18.3, 18.4, 18.5, 18.6, 19.1, 19.2, 19.3, 19.4,\n",
       "       19.5, 19.6, 16.7, 19.7, 17.7, 18.7, 18.8, 19.8, 19.9, 18.9, 16.8,\n",
       "       16.9, 17.8, 17.9])"
      ]
     },
     "execution_count": 104,
     "metadata": {},
     "output_type": "execute_result"
    }
   ],
   "source": [
    "df[df.ball >= 16].ball.unique()"
   ]
  },
  {
   "cell_type": "code",
   "execution_count": 105,
   "id": "bf54f013-e7be-41ba-bb76-894d1efc386f",
   "metadata": {
    "tags": []
   },
   "outputs": [],
   "source": [
    "df10 = df[df.ball >= 16]"
   ]
  },
  {
   "cell_type": "code",
   "execution_count": 106,
   "id": "6bc06409-4e82-45e1-947d-f5d290c7ad31",
   "metadata": {
    "tags": []
   },
   "outputs": [
    {
     "data": {
      "text/plain": [
       "Index(['match_id', 'season', 'start_date', 'venue', 'innings', 'ball',\n",
       "       'batting_team', 'bowling_team', 'striker', 'non_striker', 'bowler',\n",
       "       'runs_off_bat', 'extras', 'wides', 'noballs', 'byes', 'legbyes',\n",
       "       'penalty', 'wicket_type', 'player_dismissed', 'other_wicket_type',\n",
       "       'other_player_dismissed'],\n",
       "      dtype='object')"
      ]
     },
     "execution_count": 106,
     "metadata": {},
     "output_type": "execute_result"
    }
   ],
   "source": [
    "df10.columns"
   ]
  },
  {
   "cell_type": "code",
   "execution_count": 108,
   "id": "051bd39e-84ec-4aaf-afa6-bf407b8a42f2",
   "metadata": {
    "tags": []
   },
   "outputs": [],
   "source": [
    "df11 = pd.DataFrame(df10.groupby('striker')['runs_off_bat'].sum()).reset_index()"
   ]
  },
  {
   "cell_type": "code",
   "execution_count": 110,
   "id": "2e95dd29-819b-4382-95a4-db318c1d112a",
   "metadata": {
    "tags": []
   },
   "outputs": [],
   "source": [
    "df12 = pd.DataFrame(df10.groupby('striker')['ball'].count()).reset_index()"
   ]
  },
  {
   "cell_type": "code",
   "execution_count": 111,
   "id": "a46fd02b-0668-4abb-9a8d-0ae37d6b9c4f",
   "metadata": {
    "tags": []
   },
   "outputs": [],
   "source": [
    "df13 = df11.merge(df12, on='striker', how='left')"
   ]
  },
  {
   "cell_type": "code",
   "execution_count": 114,
   "id": "afe581ee-c8a1-4dfa-a1e0-82f604fd3bbe",
   "metadata": {
    "tags": []
   },
   "outputs": [
    {
     "data": {
      "text/html": [
       "<div>\n",
       "<style scoped>\n",
       "    .dataframe tbody tr th:only-of-type {\n",
       "        vertical-align: middle;\n",
       "    }\n",
       "\n",
       "    .dataframe tbody tr th {\n",
       "        vertical-align: top;\n",
       "    }\n",
       "\n",
       "    .dataframe thead th {\n",
       "        text-align: right;\n",
       "    }\n",
       "</style>\n",
       "<table border=\"1\" class=\"dataframe\">\n",
       "  <thead>\n",
       "    <tr style=\"text-align: right;\">\n",
       "      <th></th>\n",
       "      <th>striker</th>\n",
       "      <th>runs_off_bat</th>\n",
       "      <th>ball</th>\n",
       "    </tr>\n",
       "  </thead>\n",
       "  <tbody>\n",
       "    <tr>\n",
       "      <th>0</th>\n",
       "      <td>A Ashish Reddy</td>\n",
       "      <td>192</td>\n",
       "      <td>129</td>\n",
       "    </tr>\n",
       "  </tbody>\n",
       "</table>\n",
       "</div>"
      ],
      "text/plain": [
       "          striker  runs_off_bat  ball\n",
       "0  A Ashish Reddy  192           129 "
      ]
     },
     "execution_count": 114,
     "metadata": {},
     "output_type": "execute_result"
    }
   ],
   "source": [
    "df13.head(1)"
   ]
  },
  {
   "cell_type": "code",
   "execution_count": 115,
   "id": "dddbaab2-5149-46f3-a3df-5724c7dad3d5",
   "metadata": {
    "tags": []
   },
   "outputs": [],
   "source": [
    "df13['strike_rate'] = 100*(df13.runs_off_bat/df13.ball)"
   ]
  },
  {
   "cell_type": "code",
   "execution_count": 116,
   "id": "afdc6da8-989a-48c4-95d0-86b17c4dffa2",
   "metadata": {
    "tags": []
   },
   "outputs": [
    {
     "data": {
      "text/html": [
       "<div>\n",
       "<style scoped>\n",
       "    .dataframe tbody tr th:only-of-type {\n",
       "        vertical-align: middle;\n",
       "    }\n",
       "\n",
       "    .dataframe tbody tr th {\n",
       "        vertical-align: top;\n",
       "    }\n",
       "\n",
       "    .dataframe thead th {\n",
       "        text-align: right;\n",
       "    }\n",
       "</style>\n",
       "<table border=\"1\" class=\"dataframe\">\n",
       "  <thead>\n",
       "    <tr style=\"text-align: right;\">\n",
       "      <th></th>\n",
       "      <th>striker</th>\n",
       "      <th>runs_off_bat</th>\n",
       "      <th>ball</th>\n",
       "      <th>strike_rate</th>\n",
       "    </tr>\n",
       "  </thead>\n",
       "  <tbody>\n",
       "    <tr>\n",
       "      <th>0</th>\n",
       "      <td>A Ashish Reddy</td>\n",
       "      <td>192</td>\n",
       "      <td>129</td>\n",
       "      <td>148.837209</td>\n",
       "    </tr>\n",
       "  </tbody>\n",
       "</table>\n",
       "</div>"
      ],
      "text/plain": [
       "          striker  runs_off_bat  ball  strike_rate\n",
       "0  A Ashish Reddy  192           129   148.837209 "
      ]
     },
     "execution_count": 116,
     "metadata": {},
     "output_type": "execute_result"
    }
   ],
   "source": [
    "df13.head(1)"
   ]
  },
  {
   "cell_type": "code",
   "execution_count": 159,
   "id": "2405c012-729f-4356-86c3-8072df2de2ed",
   "metadata": {
    "tags": []
   },
   "outputs": [],
   "source": [
    "dfscatter = df13[(df13.ball >300) & (df13.strike_rate>100)].reset_index()"
   ]
  },
  {
   "cell_type": "code",
   "execution_count": 162,
   "id": "1fd6c929-8f73-4c12-b41a-e357bcdc499f",
   "metadata": {
    "tags": []
   },
   "outputs": [
    {
     "data": {
      "text/plain": [
       "Index(['index', 'striker', 'runs_off_bat', 'ball', 'strike_rate'], dtype='object')"
      ]
     },
     "execution_count": 162,
     "metadata": {},
     "output_type": "execute_result"
    }
   ],
   "source": [
    "dfscatter.columns"
   ]
  },
  {
   "cell_type": "code",
   "execution_count": 163,
   "id": "43791f3e-43e6-40e6-9cdd-461ed16c522d",
   "metadata": {
    "tags": []
   },
   "outputs": [],
   "source": [
    "dfscatter = dfscatter.drop('index',axis=1)"
   ]
  },
  {
   "cell_type": "code",
   "execution_count": 164,
   "id": "60bade63-9b71-44e4-9ead-a37b37ec7ff8",
   "metadata": {
    "tags": []
   },
   "outputs": [
    {
     "data": {
      "text/html": [
       "<div>\n",
       "<style scoped>\n",
       "    .dataframe tbody tr th:only-of-type {\n",
       "        vertical-align: middle;\n",
       "    }\n",
       "\n",
       "    .dataframe tbody tr th {\n",
       "        vertical-align: top;\n",
       "    }\n",
       "\n",
       "    .dataframe thead th {\n",
       "        text-align: right;\n",
       "    }\n",
       "</style>\n",
       "<table border=\"1\" class=\"dataframe\">\n",
       "  <thead>\n",
       "    <tr style=\"text-align: right;\">\n",
       "      <th></th>\n",
       "      <th>striker</th>\n",
       "      <th>runs_off_bat</th>\n",
       "      <th>ball</th>\n",
       "      <th>strike_rate</th>\n",
       "    </tr>\n",
       "  </thead>\n",
       "  <tbody>\n",
       "    <tr>\n",
       "      <th>0</th>\n",
       "      <td>AB de Villiers</td>\n",
       "      <td>1421</td>\n",
       "      <td>635</td>\n",
       "      <td>223.779528</td>\n",
       "    </tr>\n",
       "    <tr>\n",
       "      <th>1</th>\n",
       "      <td>AD Russell</td>\n",
       "      <td>854</td>\n",
       "      <td>441</td>\n",
       "      <td>193.650794</td>\n",
       "    </tr>\n",
       "    <tr>\n",
       "      <th>2</th>\n",
       "      <td>AR Patel</td>\n",
       "      <td>553</td>\n",
       "      <td>373</td>\n",
       "      <td>148.257373</td>\n",
       "    </tr>\n",
       "    <tr>\n",
       "      <th>3</th>\n",
       "      <td>AT Rayudu</td>\n",
       "      <td>811</td>\n",
       "      <td>500</td>\n",
       "      <td>162.200000</td>\n",
       "    </tr>\n",
       "    <tr>\n",
       "      <th>4</th>\n",
       "      <td>BJ Hodge</td>\n",
       "      <td>494</td>\n",
       "      <td>305</td>\n",
       "      <td>161.967213</td>\n",
       "    </tr>\n",
       "    <tr>\n",
       "      <th>5</th>\n",
       "      <td>DA Miller</td>\n",
       "      <td>795</td>\n",
       "      <td>451</td>\n",
       "      <td>176.274945</td>\n",
       "    </tr>\n",
       "    <tr>\n",
       "      <th>6</th>\n",
       "      <td>DJ Bravo</td>\n",
       "      <td>800</td>\n",
       "      <td>444</td>\n",
       "      <td>180.180180</td>\n",
       "    </tr>\n",
       "    <tr>\n",
       "      <th>7</th>\n",
       "      <td>HH Pandya</td>\n",
       "      <td>998</td>\n",
       "      <td>579</td>\n",
       "      <td>172.366149</td>\n",
       "    </tr>\n",
       "    <tr>\n",
       "      <th>8</th>\n",
       "      <td>Harbhajan Singh</td>\n",
       "      <td>581</td>\n",
       "      <td>390</td>\n",
       "      <td>148.974359</td>\n",
       "    </tr>\n",
       "    <tr>\n",
       "      <th>9</th>\n",
       "      <td>IK Pathan</td>\n",
       "      <td>563</td>\n",
       "      <td>380</td>\n",
       "      <td>148.157895</td>\n",
       "    </tr>\n",
       "    <tr>\n",
       "      <th>10</th>\n",
       "      <td>JA Morkel</td>\n",
       "      <td>571</td>\n",
       "      <td>368</td>\n",
       "      <td>155.163043</td>\n",
       "    </tr>\n",
       "    <tr>\n",
       "      <th>11</th>\n",
       "      <td>JP Duminy</td>\n",
       "      <td>712</td>\n",
       "      <td>402</td>\n",
       "      <td>177.114428</td>\n",
       "    </tr>\n",
       "    <tr>\n",
       "      <th>12</th>\n",
       "      <td>KA Pollard</td>\n",
       "      <td>1708</td>\n",
       "      <td>994</td>\n",
       "      <td>171.830986</td>\n",
       "    </tr>\n",
       "    <tr>\n",
       "      <th>13</th>\n",
       "      <td>KD Karthik</td>\n",
       "      <td>1282</td>\n",
       "      <td>723</td>\n",
       "      <td>177.316736</td>\n",
       "    </tr>\n",
       "    <tr>\n",
       "      <th>14</th>\n",
       "      <td>KM Jadhav</td>\n",
       "      <td>462</td>\n",
       "      <td>333</td>\n",
       "      <td>138.738739</td>\n",
       "    </tr>\n",
       "    <tr>\n",
       "      <th>15</th>\n",
       "      <td>MK Pandey</td>\n",
       "      <td>508</td>\n",
       "      <td>339</td>\n",
       "      <td>149.852507</td>\n",
       "    </tr>\n",
       "    <tr>\n",
       "      <th>16</th>\n",
       "      <td>MK Tiwary</td>\n",
       "      <td>501</td>\n",
       "      <td>338</td>\n",
       "      <td>148.224852</td>\n",
       "    </tr>\n",
       "    <tr>\n",
       "      <th>17</th>\n",
       "      <td>MP Stoinis</td>\n",
       "      <td>497</td>\n",
       "      <td>310</td>\n",
       "      <td>160.322581</td>\n",
       "    </tr>\n",
       "    <tr>\n",
       "      <th>18</th>\n",
       "      <td>MS Dhoni</td>\n",
       "      <td>2530</td>\n",
       "      <td>1419</td>\n",
       "      <td>178.294574</td>\n",
       "    </tr>\n",
       "    <tr>\n",
       "      <th>19</th>\n",
       "      <td>PP Chawla</td>\n",
       "      <td>384</td>\n",
       "      <td>317</td>\n",
       "      <td>121.135647</td>\n",
       "    </tr>\n",
       "    <tr>\n",
       "      <th>20</th>\n",
       "      <td>R Ashwin</td>\n",
       "      <td>381</td>\n",
       "      <td>303</td>\n",
       "      <td>125.742574</td>\n",
       "    </tr>\n",
       "    <tr>\n",
       "      <th>21</th>\n",
       "      <td>RA Jadeja</td>\n",
       "      <td>1155</td>\n",
       "      <td>766</td>\n",
       "      <td>150.783290</td>\n",
       "    </tr>\n",
       "    <tr>\n",
       "      <th>22</th>\n",
       "      <td>RG Sharma</td>\n",
       "      <td>1145</td>\n",
       "      <td>605</td>\n",
       "      <td>189.256198</td>\n",
       "    </tr>\n",
       "    <tr>\n",
       "      <th>23</th>\n",
       "      <td>SK Raina</td>\n",
       "      <td>664</td>\n",
       "      <td>405</td>\n",
       "      <td>163.950617</td>\n",
       "    </tr>\n",
       "    <tr>\n",
       "      <th>24</th>\n",
       "      <td>SPD Smith</td>\n",
       "      <td>554</td>\n",
       "      <td>331</td>\n",
       "      <td>167.371601</td>\n",
       "    </tr>\n",
       "    <tr>\n",
       "      <th>25</th>\n",
       "      <td>V Kohli</td>\n",
       "      <td>991</td>\n",
       "      <td>511</td>\n",
       "      <td>193.933464</td>\n",
       "    </tr>\n",
       "    <tr>\n",
       "      <th>26</th>\n",
       "      <td>YK Pathan</td>\n",
       "      <td>858</td>\n",
       "      <td>537</td>\n",
       "      <td>159.776536</td>\n",
       "    </tr>\n",
       "    <tr>\n",
       "      <th>27</th>\n",
       "      <td>Yuvraj Singh</td>\n",
       "      <td>601</td>\n",
       "      <td>364</td>\n",
       "      <td>165.109890</td>\n",
       "    </tr>\n",
       "  </tbody>\n",
       "</table>\n",
       "</div>"
      ],
      "text/plain": [
       "            striker  runs_off_bat  ball  strike_rate\n",
       "0   AB de Villiers   1421          635   223.779528 \n",
       "1   AD Russell       854           441   193.650794 \n",
       "2   AR Patel         553           373   148.257373 \n",
       "3   AT Rayudu        811           500   162.200000 \n",
       "4   BJ Hodge         494           305   161.967213 \n",
       "5   DA Miller        795           451   176.274945 \n",
       "6   DJ Bravo         800           444   180.180180 \n",
       "7   HH Pandya        998           579   172.366149 \n",
       "8   Harbhajan Singh  581           390   148.974359 \n",
       "9   IK Pathan        563           380   148.157895 \n",
       "10  JA Morkel        571           368   155.163043 \n",
       "11  JP Duminy        712           402   177.114428 \n",
       "12  KA Pollard       1708          994   171.830986 \n",
       "13  KD Karthik       1282          723   177.316736 \n",
       "14  KM Jadhav        462           333   138.738739 \n",
       "15  MK Pandey        508           339   149.852507 \n",
       "16  MK Tiwary        501           338   148.224852 \n",
       "17  MP Stoinis       497           310   160.322581 \n",
       "18  MS Dhoni         2530          1419  178.294574 \n",
       "19  PP Chawla        384           317   121.135647 \n",
       "20  R Ashwin         381           303   125.742574 \n",
       "21  RA Jadeja        1155          766   150.783290 \n",
       "22  RG Sharma        1145          605   189.256198 \n",
       "23  SK Raina         664           405   163.950617 \n",
       "24  SPD Smith        554           331   167.371601 \n",
       "25  V Kohli          991           511   193.933464 \n",
       "26  YK Pathan        858           537   159.776536 \n",
       "27  Yuvraj Singh     601           364   165.109890 "
      ]
     },
     "execution_count": 164,
     "metadata": {},
     "output_type": "execute_result"
    }
   ],
   "source": [
    "dfscatter"
   ]
  },
  {
   "cell_type": "code",
   "execution_count": 170,
   "id": "2a912763-dce9-4f1e-90eb-8ed8b0ae631b",
   "metadata": {
    "tags": []
   },
   "outputs": [
    {
     "data": {
      "text/plain": [
       "Text(0, 0.5, 'Runs scored')"
      ]
     },
     "execution_count": 170,
     "metadata": {},
     "output_type": "execute_result"
    },
    {
     "data": {
      "image/png": "[encoded data removed]",
      "text/plain": [
       "<Figure size 1000x500 with 1 Axes>"
      ]
     },
     "metadata": {},
     "output_type": "display_data"
    }
   ],
   "source": [
    "plt.figure(figsize = (10,5))\n",
    "plt.rcParams['axes.facecolor'] = '#fff7fb'\n",
    "plt.scatter(dfscatter.strike_rate, dfscatter.runs_off_bat)\n",
    "\n",
    "for i in range(len(dfscatter)):\n",
    "    if dfscatter.striker[i] == 'MS Dhoni':\n",
    "        plt.text(dfscatter.strike_rate[i] + 1, dfscatter.runs_off_bat[i] - 1, dfscatter.striker[i])\n",
    "\n",
    "plt.axvline(170, ls = '--', color = 'grey')\n",
    "plt.axhline(1000, ls = '--', color = 'grey')\n",
    "plt.xlabel('Strike rate')\n",
    "plt.ylabel('Runs scored')"
   ]
  },
  {
   "cell_type": "code",
   "execution_count": null,
   "id": "c5702a3d-84f0-4417-bdd5-f1b374e0b292",
   "metadata": {},
   "outputs": [],
   "source": []
  }
 ],
 "metadata": {
  "kernelspec": {
   "display_name": "Python 3 (ipykernel)",
   "language": "python",
   "name": "python3"
  },
  "language_info": {
   "codemirror_mode": {
    "name": "ipython",
    "version": 3
   },
   "file_extension": ".py",
   "mimetype": "text/x-python",
   "name": "python",
   "nbconvert_exporter": "python",
   "pygments_lexer": "ipython3",
   "version": "3.11.5"
  }
 },
 "nbformat": 4,
 "nbformat_minor": 5
}
